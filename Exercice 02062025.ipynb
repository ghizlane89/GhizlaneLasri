{
 "cells": [
  {
   "cell_type": "code",
   "execution_count": 26,
   "id": "9d0fb65a",
   "metadata": {},
   "outputs": [
    {
     "name": "stdout",
     "output_type": "stream",
     "text": [
      "Hello World\n"
     ]
    }
   ],
   "source": [
    "#1\n",
    "first = \"Hello World\"\n",
    "print(first)\n"
   ]
  },
  {
   "cell_type": "code",
   "execution_count": 27,
   "id": "c69bf93c",
   "metadata": {},
   "outputs": [
    {
     "name": "stdout",
     "output_type": "stream",
     "text": [
      "This is a comment.\n"
     ]
    }
   ],
   "source": [
    "#2\n",
    "comment = \"This is a comment.\" \n",
    "print (comment)\n"
   ]
  },
  {
   "cell_type": "code",
   "execution_count": 28,
   "id": "248645ad",
   "metadata": {},
   "outputs": [
    {
     "ename": "NameError",
     "evalue": "name 'print' is not defined",
     "output_type": "error",
     "traceback": [
      "\u001b[31m---------------------------------------------------------------------------\u001b[39m",
      "\u001b[31mNameError\u001b[39m                                 Traceback (most recent call last)",
      "\u001b[36mCell\u001b[39m\u001b[36m \u001b[39m\u001b[32mIn[28]\u001b[39m\u001b[32m, line 2\u001b[39m\n\u001b[32m      1\u001b[39m \u001b[38;5;66;03m#3 \u001b[39;00m\n\u001b[32m----> \u001b[39m\u001b[32m2\u001b[39m \u001b[38;5;28;01mdel\u001b[39;00m \u001b[38;5;28;43mprint\u001b[39;49m\n\u001b[32m      3\u001b[39m \u001b[38;5;28mprint\u001b[39m(\u001b[33m\"\u001b[39m\u001b[33mI am a computer\u001b[39m\u001b[33m\"\u001b[39m)\n",
      "\u001b[31mNameError\u001b[39m: name 'print' is not defined"
     ]
    }
   ],
   "source": [
    "#3 \n",
    "del print\n",
    "print(\"I am a computer\")"
   ]
  },
  {
   "cell_type": "code",
   "execution_count": null,
   "id": "385896aa",
   "metadata": {},
   "outputs": [
    {
     "name": "stdout",
     "output_type": "stream",
     "text": [
      "Match is fun\n"
     ]
    }
   ],
   "source": [
    "#4\n",
    "if 1<2 and 4>2 : \n",
    "    print (\"Match is fun\")\n",
    "\n"
   ]
  },
  {
   "cell_type": "code",
   "execution_count": null,
   "id": "d222ca83",
   "metadata": {},
   "outputs": [],
   "source": [
    "#5\n",
    "nope= None"
   ]
  },
  {
   "cell_type": "code",
   "execution_count": 35,
   "id": "793c88b5",
   "metadata": {},
   "outputs": [
    {
     "name": "stdout",
     "output_type": "stream",
     "text": [
      "on a pas le bon a\n"
     ]
    }
   ],
   "source": [
    "#6\n",
    "a=-5\n",
    "if a==5 and a>0:\n",
    "    print ( \"On a le bon a\" )\n",
    "else :\n",
    "    print ( \"on a pas le bon a\")\n",
    "    \n",
    "\n"
   ]
  },
  {
   "cell_type": "code",
   "execution_count": null,
   "id": "cd672c53",
   "metadata": {},
   "outputs": [
    {
     "name": "stdout",
     "output_type": "stream",
     "text": [
      "17\n"
     ]
    }
   ],
   "source": [
    "#7\n",
    "text = \"What's my length?\"\n",
    "longueur = len(text)\n",
    "print(longueur)"
   ]
  },
  {
   "cell_type": "code",
   "execution_count": null,
   "id": "e6b6a99e",
   "metadata": {},
   "outputs": [
    {
     "name": "stdout",
     "output_type": "stream",
     "text": [
      "I AM SHOUTING\n"
     ]
    }
   ],
   "source": [
    "#8\n",
    "\n",
    "exemple = \"i am shouting\"\n",
    "Majuscule_example = exemple.upper()\n",
    "print(Majuscule_example)"
   ]
  },
  {
   "cell_type": "code",
   "execution_count": null,
   "id": "d44fa943",
   "metadata": {},
   "outputs": [
    {
     "name": "stdout",
     "output_type": "stream",
     "text": [
      "1000\n"
     ]
    }
   ],
   "source": [
    "#9\n",
    "text = \"1000\"\n",
    "convert_text_to_number= int (text)\n",
    "print (text)"
   ]
  },
  {
   "cell_type": "code",
   "execution_count": 43,
   "id": "77ad6eb9",
   "metadata": {},
   "outputs": [
    {
     "name": "stdout",
     "output_type": "stream",
     "text": [
      "4real\n"
     ]
    }
   ],
   "source": [
    "#10\n",
    "print ( str(4)+ \"real\")\n",
    "\n"
   ]
  },
  {
   "cell_type": "markdown",
   "id": "cf56d8d9",
   "metadata": {},
   "source": []
  },
  {
   "cell_type": "code",
   "execution_count": null,
   "id": "37504751",
   "metadata": {},
   "outputs": [
    {
     "name": "stdout",
     "output_type": "stream",
     "text": [
      "coolcoolcool\n"
     ]
    }
   ],
   "source": [
    "#11\n",
    "\n",
    "print ( 3* \"cool\")"
   ]
  },
  {
   "cell_type": "code",
   "execution_count": null,
   "id": "1e91e90d",
   "metadata": {},
   "outputs": [
    {
     "name": "stdout",
     "output_type": "stream",
     "text": [
      "0.1\n"
     ]
    }
   ],
   "source": [
    "#12\n",
    "result11= 1/10\n",
    "print ( result11)\n"
   ]
  },
  {
   "cell_type": "code",
   "execution_count": null,
   "id": "cf73ab77",
   "metadata": {},
   "outputs": [
    {
     "name": "stdout",
     "output_type": "stream",
     "text": [
      "<class 'list'>\n"
     ]
    }
   ],
   "source": [
    "#13\n",
    "print ( type ([]))\n"
   ]
  },
  {
   "cell_type": "code",
   "execution_count": 53,
   "id": "f9bdad17",
   "metadata": {},
   "outputs": [
    {
     "name": "stdout",
     "output_type": "stream",
     "text": [
      "ghizlane\n"
     ]
    }
   ],
   "source": [
    "#14\n",
    "\n",
    "name = input ( \" quelle est ton nom stp\")\n",
    "print (name)"
   ]
  },
  {
   "cell_type": "code",
   "execution_count": null,
   "id": "cb17f912",
   "metadata": {},
   "outputs": [
    {
     "name": "stdout",
     "output_type": "stream",
     "text": [
      "That number is greater than 0!\n"
     ]
    }
   ],
   "source": [
    "#15\n",
    "numbercall = input ( \" Entre un chiffre\")\n",
    "numbercall=int(numbercall)\n",
    "if numbercall < 0: \n",
    "    print (\"That number is less than 0!\" )\n",
    "else:\n",
    "   print(\"That number is greater than 0!\" ) \n",
    "    \n"
   ]
  },
  {
   "cell_type": "code",
   "execution_count": 57,
   "id": "5e5b9dec",
   "metadata": {},
   "outputs": [
    {
     "name": "stdout",
     "output_type": "stream",
     "text": [
      "3\n"
     ]
    }
   ],
   "source": [
    "#16\n",
    "mot =\"apple\"\n",
    "index= mot.index(\"l\")\n",
    "print (index)\n"
   ]
  },
  {
   "cell_type": "code",
   "execution_count": 58,
   "id": "714fb11b",
   "metadata": {},
   "outputs": [
    {
     "name": "stdout",
     "output_type": "stream",
     "text": [
      "True\n"
     ]
    }
   ],
   "source": [
    "#17\n",
    "result17 = \"y\" in \"xylophone\"\n",
    "print(result17)\n"
   ]
  },
  {
   "cell_type": "code",
   "execution_count": null,
   "id": "ca0739f0",
   "metadata": {},
   "outputs": [
    {
     "name": "stdout",
     "output_type": "stream",
     "text": [
      "il y a des majuscule\n"
     ]
    }
   ],
   "source": [
    "#18\n",
    "result18= \"my_string\"\n",
    "if result18.islower():\n",
    "    print ( \"il est bien en minuscule\")\n",
    "else :\n",
    "    print ( \"il y a des majuscule\")\n"
   ]
  },
  {
   "cell_type": "code",
   "execution_count": null,
   "id": "93cd044c",
   "metadata": {},
   "outputs": [],
   "source": []
  }
 ],
 "metadata": {
  "kernelspec": {
   "display_name": ".venv",
   "language": "python",
   "name": "python3"
  },
  "language_info": {
   "codemirror_mode": {
    "name": "ipython",
    "version": 3
   },
   "file_extension": ".py",
   "mimetype": "text/x-python",
   "name": "python",
   "nbconvert_exporter": "python",
   "pygments_lexer": "ipython3",
   "version": "3.13.2"
  }
 },
 "nbformat": 4,
 "nbformat_minor": 5
}
