{
 "cells": [
  {
   "cell_type": "code",
   "execution_count": null,
   "id": "af50ffa2",
   "metadata": {},
   "outputs": [
    {
     "name": "stdout",
     "output_type": "stream",
     "text": [
      "[5, 10, 15, 20, 25, 30, 35, 40, 45]\n",
      "['J', 'J', 'J', 'E', 'E', 'E', 'P', 'P', 'P']\n",
      "['J', 'E', 'P']\n"
     ]
    }
   ],
   "source": [
    "\n",
    "#Challenge1\n",
    "\n",
    "def challenge1():\n",
    "\n",
    "    number=int(input('Entrez un nombre'))\n",
    "    length=int(input('Entrez une longueur'))\n",
    "    liste=[]\n",
    "\n",
    "    for i in range(1,length,1):\n",
    "        liste.append(i*number)\n",
    "    print(liste)    \n",
    "\n",
    "challenge1()\n",
    "\n",
    "\n",
    "# Challenge 2 \n",
    "\n",
    "listeA=(input(\"Veuillez rentrer un mot avec des lettres en doublon\"))\n",
    "\n",
    "listeA=list(listeA)\n",
    "\n",
    "\n",
    "ListeB=[]\n",
    "for i in listeA: \n",
    "    if i not in ListeB:\n",
    "        ListeB.append(i)\n",
    "print(ListeB)\n"
   ]
  }
 ],
 "metadata": {
  "kernelspec": {
   "display_name": ".venv",
   "language": "python",
   "name": "python3"
  },
  "language_info": {
   "codemirror_mode": {
    "name": "ipython",
    "version": 3
   },
   "file_extension": ".py",
   "mimetype": "text/x-python",
   "name": "python",
   "nbconvert_exporter": "python",
   "pygments_lexer": "ipython3",
   "version": "3.13.2"
  }
 },
 "nbformat": 4,
 "nbformat_minor": 5
}
